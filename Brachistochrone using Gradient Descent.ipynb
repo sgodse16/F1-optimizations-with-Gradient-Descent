{
 "cells": [
  {
   "cell_type": "code",
   "execution_count": 1,
   "id": "5ea0ac80",
   "metadata": {},
   "outputs": [],
   "source": [
    "import torch"
   ]
  },
  {
   "cell_type": "code",
   "execution_count": 2,
   "id": "894534d7",
   "metadata": {},
   "outputs": [],
   "source": [
    "def t(x, y):\n",
    "    g = torch.tensor(9.81, requires_grad=False)\n",
    "    n = len(x)\n",
    "    time = torch.tensor(0., requires_grad=True)\n",
    "    v_curr = torch.tensor(0., requires_grad=True)\n",
    "    for i in range(n-1):\n",
    "        v_curr_new = torch.sqrt(v_curr**2 + 2*g*(y[i]-y[i+1])) \n",
    "        time = time + (v_curr_new-v_curr)/g/(y[i]-y[i+1])*torch.sqrt((y[i]-y[i+1])**2+(x[i]-x[i+1])**2)\n",
    "        v_curr = v_curr_new\n",
    "        \n",
    "    return time"
   ]
  },
  {
   "cell_type": "markdown",
   "id": "716c9111",
   "metadata": {},
   "source": [
    "### Vanilla Gradient Descent"
   ]
  },
  {
   "cell_type": "code",
   "execution_count": 3,
   "id": "bc6910b2",
   "metadata": {},
   "outputs": [],
   "source": [
    "xstart, xend = 0, 10\n",
    "ystart, yend = 10, 0\n",
    "\n",
    "lr = torch.tensor(1, requires_grad=False)\n",
    "iterations = 1000\n",
    "\n",
    "x = np.linspace(xstart, xend, 20, endpoint=True)\n",
    "\n",
    "y_curr = ystart + (x-xstart)*(yend-ystart)/(xend-xstart)\n",
    "\n",
    "y_curr = torch.tensor(y_curr, requires_grad=True)\n",
    "\n",
    "y_all = np.zeros((iterations, len(x)))\n",
    "\n",
    "y_all[0] = y_curr.clone().detach()\n",
    "\n",
    "times_all = np.zeros(iterations)\n",
    "\n",
    "for i in range(iterations-1):\n",
    "    time = t(x, y_curr)\n",
    "    time.backward()\n",
    "    grad = y_curr.grad\n",
    "    grad[0] = torch.tensor(0.)\n",
    "    grad[-1] = torch.tensor(0.)\n",
    "    \n",
    "    y_new = y_curr - lr*grad\n",
    "    \n",
    "    y_all[i+1] = y_new.clone().detach()\n",
    "    times_all[i] = time.clone().detach()\n",
    "    \n",
    "    y_curr = torch.tensor(y_all[i+1], requires_grad=True)\n",
    "    \n",
    "times_all[-1] = t(x, y_curr).clone().detach()"
   ]
  },
  {
   "cell_type": "code",
   "execution_count": 4,
   "id": "4cdf9157",
   "metadata": {},
   "outputs": [],
   "source": [
    "np.savetxt('Brachistochrone_data/y_all_plain.txt', y_all)"
   ]
  },
  {
   "cell_type": "code",
   "execution_count": 5,
   "id": "732bac94",
   "metadata": {},
   "outputs": [],
   "source": [
    "np.savetxt('Brachistochrone_data/times_all_plain.txt', times_all)"
   ]
  },
  {
   "cell_type": "markdown",
   "id": "40ca6210",
   "metadata": {},
   "source": [
    "### Gradient Descent with Momentum"
   ]
  },
  {
   "cell_type": "code",
   "execution_count": 6,
   "id": "336e2d16",
   "metadata": {},
   "outputs": [],
   "source": [
    "xstart, xend = 0, 10\n",
    "ystart, yend = 10, 0\n",
    "\n",
    "lr = torch.tensor(1, requires_grad=False)\n",
    "momentum = 0.9\n",
    "iterations = 1000\n",
    "\n",
    "x = np.linspace(xstart, xend, 20, endpoint=True)\n",
    "\n",
    "y_curr = ystart + (x-xstart)*(yend-ystart)/(xend-xstart)\n",
    "\n",
    "y_curr = torch.tensor(y_curr, requires_grad=True)\n",
    "velocity = torch.zeros_like(y_curr)\n",
    "\n",
    "y_all = np.zeros((iterations, len(x)))\n",
    "\n",
    "y_all[0] = y_curr.clone().detach()\n",
    "\n",
    "times_all = np.zeros(iterations)\n",
    "\n",
    "for i in range(iterations-1):\n",
    "    time = t(x, y_curr)\n",
    "    time.backward()\n",
    "    grad = y_curr.grad\n",
    "    grad[0] = torch.tensor(0.)\n",
    "    grad[-1] = torch.tensor(0.)\n",
    "    \n",
    "    velocity = momentum * velocity + (1 - momentum) * grad\n",
    "    \n",
    "    y_new = y_curr - lr*velocity\n",
    "    \n",
    "    y_all[i+1] = y_new.clone().detach()\n",
    "    times_all[i] = time.clone().detach()\n",
    "    \n",
    "    y_curr = torch.tensor(y_all[i+1], requires_grad=True)\n",
    "    \n",
    "times_all[-1] = t(x, y_curr).clone().detach()"
   ]
  },
  {
   "cell_type": "code",
   "execution_count": 7,
   "id": "de748a46",
   "metadata": {},
   "outputs": [],
   "source": [
    "np.savetxt('Brachistochrone_data/y_all_momentum.txt', y_all)"
   ]
  },
  {
   "cell_type": "code",
   "execution_count": 8,
   "id": "c1316077",
   "metadata": {},
   "outputs": [],
   "source": [
    "np.savetxt('Brachistochrone_data/times_all_momentum.txt', times_all)"
   ]
  },
  {
   "cell_type": "code",
   "execution_count": null,
   "id": "bfeef9d3",
   "metadata": {},
   "outputs": [],
   "source": []
  }
 ],
 "metadata": {
  "kernelspec": {
   "display_name": "Python3",
   "language": "python",
   "name": "python3"
  },
  "language_info": {
   "codemirror_mode": {
    "name": "ipython",
    "version": 3
   },
   "file_extension": ".py",
   "mimetype": "text/x-python",
   "name": "python",
   "nbconvert_exporter": "python",
   "pygments_lexer": "ipython3",
   "version": "3.9.13"
  }
 },
 "nbformat": 4,
 "nbformat_minor": 5
}
